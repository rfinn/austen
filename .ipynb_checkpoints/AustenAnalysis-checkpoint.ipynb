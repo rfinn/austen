{
 "cells": [
  {
   "cell_type": "markdown",
   "metadata": {},
   "source": [
    "** GOAL **\n",
    "\n",
    "To reproduce the number from the Austen report.  Numbers will be approximate because we will use averages for tuition paid, admin cost, total credits taken per student, etc.\n",
    "\n",
    "** DEFINITIONS **\n",
    "\n",
    "* total student credit hours = (number of students) x (credits for course)\n",
    "\n",
    "\n",
    "** COST **\n",
    "\n",
    "* cost = (contact hours)/12 x salary # use ave salary by rank\n",
    "\n",
    "* admin cost = (department head salary/4 + ? (1/2 of george's salary, maybe admin assist, dean)) / (total number of PHYS courses)\n",
    "\n",
    "* total costs = cost + admin cost + (department budget / total number of PHYS courses) \n",
    "\n",
    "* cost per SCH = (total cost) / total student credit hours\n",
    "\n",
    "\n",
    "** REVENUE **\n",
    "\n",
    "* revenue = (tuition x (1-discount rate))/(total credits taken) x (credits for course) # use average\n",
    "\n",
    "* revenue per SCH = revenue / total student credit hours\n",
    "\n",
    "\n",
    "** MARGIN **\n",
    "\n",
    "* margin = revenue - cost\n",
    "\n",
    "* margin per SCH = (revenue per SCH) - (cost per SCH)\n",
    "\n",
    "* department margin = sum(revenue) - sum(cost)\n",
    "\n",
    "\n",
    "\n",
    "** PREPARING THE DATA ** \n",
    "\n",
    "* we added two columns to the spreadsheet that Angela sent\n",
    "    * credit hours (column 15)\n",
    "    * contact hrs (column 16)\n",
    "    \n",
    "\n",
    "\n"
   ]
  },
  {
   "cell_type": "code",
   "execution_count": 1,
   "metadata": {
    "collapsed": false
   },
   "outputs": [
    {
     "name": "stderr",
     "output_type": "stream",
     "text": [
      "//anaconda/lib/python2.7/site-packages/matplotlib/font_manager.py:273: UserWarning: Matplotlib is building the font cache using fc-list. This may take a moment.\n",
      "  warnings.warn('Matplotlib is building the font cache using fc-list. This may take a moment.')\n"
     ]
    }
   ],
   "source": [
    "import xlrd\n",
    "import numpy as np\n",
    "from matplotlib import pyplot as plt\n",
    "%matplotlib inline"
   ]
  },
  {
   "cell_type": "code",
   "execution_count": 2,
   "metadata": {
    "collapsed": true
   },
   "outputs": [],
   "source": [
    "def readSchedule(file,match_string):\n",
    "    block=[]\n",
    "    days=[]\n",
    "    times=[]\n",
    "    room=[]\n",
    "    fac=[]\n",
    "    credit=[]\n",
    "    course=[]\n",
    "    mathcourse=[]\n",
    "    mathtitle=[]\n",
    "    mathblock=[]\n",
    "    mathdays=[]\n",
    "    mathtimes=[]\n",
    "    credit_hrs = []\n",
    "    contact_hrs = []\n",
    "    enrollment = []\n",
    "    if file.find('.xls') > -1:# reading an excel file\n",
    "        xdat=xlrd.open_workbook(file)\n",
    "        sheet=xdat.sheet_by_index(0)\n",
    "        ncol=sheet.ncols\n",
    "        nrow=sheet.nrows\n",
    "        # find course index\n",
    "        for i in range(nrow):\n",
    "            coursename=sheet.cell_value(i,5)\n",
    "            if coursename.startswith(match_string):# | coursename.startswith('ASTR') : #| (coursename.find('SCDV001') > -1)  | (coursename.find('CSIS200') > -1) | (coursename.find('SCDV230') > -1):\n",
    "                enrollment.append(sheet.cell_value(i,3))\n",
    "                course.append(sheet.cell_value(i,5))\n",
    "                block.append(sheet.cell_value(i,7))\n",
    "                days.append(sheet.cell_value(i,8))\n",
    "                times.append(sheet.cell_value(i,9))\n",
    "                room.append(sheet.cell_value(i,10))\n",
    "                fac.append(sheet.cell_value(i,11).split(',')[0])\n",
    "                credit.append(sheet.cell_value(i,12))\n",
    "                credit_hrs.append(sheet.cell_value(i,14))\n",
    "                contact_hrs.append(sheet.cell_value(i,15))\n",
    "        #xdat=xlrd.close_workbook(file)\n",
    "        return block,room,fac,credit,course,days,times,credit_hrs,contact_hrs,enrollment\n",
    "    else:\n",
    "        for line in file:\n",
    "            if line.startswith('CRN'):\n",
    "                continue\n",
    "            t=line.split(',')\n",
    "            try:\n",
    "                course.append(t[2])\n",
    "                block.append(t[4])\n",
    "                room.append(t[7])\n",
    "                fac.append(t[8])\n",
    "                credit.append(t[9])\n",
    "            except:\n",
    "                print \"Error reading line: \",line\n",
    "                continue\n",
    "        return block,room,fac,credit,course,days,times,credit_hrs,contact_hrs "
   ]
  },
  {
   "cell_type": "code",
   "execution_count": 10,
   "metadata": {
    "collapsed": true
   },
   "outputs": [],
   "source": [
    "class department:\n",
    "    def __init__(self,prefix,infile):\n",
    "        self.prefix = prefix\n",
    "        if prefix.find('PHYS') > -1: # read file twice to get PHYS and ASTR courses\n",
    "            block,room,fac,credit,course,days,times,credit_hrs,contact_hrs,enrollment = readSchedule(infile,prefix)\n",
    "            t = readSchedule(infile,'ASTR')\n",
    "            self.faculty = np.array((fac + t[2]),'S16')\n",
    "            self.course = np.array((course + t[4]),'S7')\n",
    "            self.credit_hrs = np.array((credit_hrs + t[7]),'f')\n",
    "            self.contact_hrs = np.array((contact_hrs + t[8]),'f')\n",
    "            self.enrollment = np.array((enrollment + t[9]),'f')\n",
    "        else:\n",
    "            block,room,fac,credit,course,days,times,credit_hrs,contact_hrs,enrollment = readSchedule(infile,prefix)\n",
    "            self.faculty = np.array((fac),'S16')\n",
    "            self.course = np.array((course),'S7')\n",
    "            self.credit_hrs = np.array((credit_hrs),'f')\n",
    "            self.contact_hrs = np.array((contact_hrs),'f')\n",
    "            self.enrollment = np.array((enrollment),'f')\n",
    "        self.calc_cost()\n",
    "        self.calc_revenue()\n",
    "        self.calc_margin()\n",
    "    def calc_cost(self):\n",
    "        self.cost_per_course = np.zeros(len(self.faculty))\n",
    "        nhassel = 0\n",
    "        for i in range(len(self.faculty)):\n",
    "            #print faculty[i]\n",
    "            #print salary_dict[self.faculty[i]]\n",
    "            try:\n",
    "                if self.faculty[i].find('Hassel') > -1:\n",
    "                    nhassel += 1\n",
    "                    if nhassel < 2:\n",
    "                        self.cost_per_course[i] = salary_dict[self.faculty[i]]/24.*self.contact_hrs[i]*1.4\n",
    "                    else:\n",
    "                        self.cost_per_course[i] = self.contact_hrs[i] * salary_adjunct\n",
    "                else:\n",
    "                    self.cost_per_course[i] = salary_dict[self.faculty[i]]/24.*self.contact_hrs[i]*1.4\n",
    "        \n",
    "            except KeyError: # enter here for adjunct faculty\n",
    "                #print 'Key error for ',i,self.faculty[i]\n",
    "                #if faculty[i].find('Gig') > -1:\n",
    "                #    print 'Key error for ', self.faculty[i]\n",
    "                #else:\n",
    "                #    print salary_dict[self.faculty[i]]\n",
    "                #print 'got here!'\n",
    "                print 'assuming ',self.faculty[i],' is an adjunct professor who teaches ',np.sum(self.contact_hrs[self.faculty == self.faculty[i]]),' contact hrs'\n",
    "                self.cost_per_course[i] = self.contact_hrs[i]* salary_adjunct# course credit hrs * salary per credit hour\n",
    "        self.total_cost = np.sum(self.cost_per_course) + department_budget[self.prefix]\n",
    "        self.cost_per_sch = self.total_cost/np.sum(self.credit_hrs*self.enrollment)\n",
    "    def calc_revenue(self):\n",
    "        self.revenue_per_course = tuition_paid/30.*self.credit_hrs*self.enrollment\n",
    "        self.total_revenue = np.sum(self.revenue_per_course)\n",
    "    def calc_margin(self):\n",
    "        self.margin_per_sch = tuition_paid/30. - self.cost_per_sch\n",
    "        self.margin_per_course = self.revenue_per_course - self.cost_per_course\n",
    "        self.total_margin = self.total_revenue - self.total_cost\n",
    "    def print_stats(self):\n",
    "        print '\\n%%%%%%%%%%%%%%%%%%%%%%%'\n",
    "        print self.prefix\n",
    "        print '%%%%%%%%%%%%%%%%%%%%%%%'\n",
    "        print 'average cost per class    = %5.2f'%(np.mean(self.cost_per_course))\n",
    "        print 'average revenue per class = %5.2f'%(np.mean(self.revenue_per_course))\n",
    "        print 'average margin per class  = %5.2f'%(np.mean(self.margin_per_course))\n",
    "        print 'average class size        = %3.1f'%(np.mean(self.enrollment))\n",
    "    def print_stats_alt(self):\n",
    "\n",
    "        print '%s %5.2f %5.2f %5.2f %3.1f'%(self.prefix,np.mean(self.cost_per_course), \n",
    "                                            np.mean(self.revenue_per_course), np.mean(self.margin_per_course),\n",
    "                                            np.mean(self.enrollment))\n",
    "    def print_stats_sch(self):\n",
    "        print 'dept cost/sch rev/sch margin/sch enrollment \\n'\n",
    "        print '%s %5.2f %5.2f %5.2f %3.1f'%(self.prefix,np.mean(self.cost_per_sch), \n",
    "                                            revenue_per_sch, np.mean(self.margin_per_sch),\n",
    "                                            np.mean(self.enrollment))"
   ]
  },
  {
   "cell_type": "code",
   "execution_count": 11,
   "metadata": {
    "collapsed": false
   },
   "outputs": [],
   "source": [
    "# assumptions\n",
    "\n",
    "# faculty salaries\n",
    "salary_assistant = 70000.\n",
    "salary_associate = 80000.\n",
    "salary_full = 95000.\n",
    "salary_adjunct = 850. #per credit hour\n",
    "salary_visitor = 65000.\n",
    "\n",
    "faculty_ranks = {'Finn':salary_associate,'Coohill':salary_full,'Vernizzi':salary_associate,\n",
    "                'McColgan':salary_assistant,'Cummings':salary_associate,'Rosenberry':salary_associate,\n",
    "                'Hassel':salary_assistant,'Moustakas':salary_assistant,'Weatherwax':salary_full,\n",
    "                 'Medsker':salary_full,'Bellis':salary_assistant,\n",
    "                 'Caldaro':salary_visitor,'Russell':salary_visitor}\n",
    "assistants = ['Bellis','McColgan','Moustakas','Hassel', # Physics\n",
    "              #Biology\n",
    "              'Vernooy',\n",
    "              'Swinton',\n",
    "              'Goldman',\n",
    "              'Brookins', \n",
    "              'Berke',\n",
    "              'Springer',\n",
    "              'Karr','Deyrup',# Computer Science\n",
    "              'Fryling','DiTursi','Small',# Computer Science\n",
    "              'Meierdiercks','Kolozsvary', #Env\n",
    "              'Javaheri', 'Henry' # Math\n",
    "              ]\n",
    "              \n",
    "associates = ['Finn','Cummings','Vernizzi','Rosenberry', # Physics\n",
    "              'Memmo-Signor','Mason','Harbison','Byrnes', #Biology\n",
    "              # Chemistry\n",
    "              'Hofstein','Tucker','Moriarty','Barnes',\"O'Donnell\",'Hughes','Kolonko',\n",
    "              'Lim','Cotler','Berman','Breimer',# Computer Science\n",
    "              'Ellard', #ENVA\n",
    "              'Bannon','Krylov',\"O'Neill\" #Math\n",
    "              ]\n",
    "full = ['Coohill','Medsker','Weatherwax', #Physics\n",
    "        'Woolbright','Angstadt','Helm','Hayden','Wilson','Worthington','Zanetti','Sterne-Marr','LaRow', #Biology\n",
    "        'Rhoads', # Chemistry\n",
    "        'Egan','Vandenberg','Horowitz','Flatland','Matthews', # Computer Science\n",
    "        'Mangun', #Env\n",
    "        'Kenney', 'Rogers' #Math\n",
    "       ]\n",
    "visitors = ['Caldaro','Russell',\n",
    "           'Rapp', 'Pier','Chaturvedi', #Biology\n",
    "            'Wos','Barbera','LaGraff','McNamara','Lee','Vanderover','Perry', #Chemistry\n",
    "            'Liss','Sherman','Mehta','Goldstein','Yates', #Computer Science\n",
    "            'Bogan', #Environmental Science\n",
    "            'Smitas', 'Cade', #Math\n",
    "            ]\n",
    "adjuncts = ['Broder','Gigante', #Physics \n",
    "           #Biology\n",
    "          \"O'Brien\",#Chemistry\n",
    "            'Coco','Mendez','Rivituso','Schindler','Baciewicz', #Computer Science\n",
    "            'Pipino', #ENVA\n",
    "            'Kiehle','Mazzone' #Math\n",
    "           ]\n",
    "\n",
    "# make a dictionary of faculty and rank\n",
    "nfaculty = len(assistants) + len(associates) + len(full) + len(visitors)\n",
    "faculty_salaries = np.zeros(nfaculty,'f')\n",
    "faculty_salaries[0:len(assistants)] = salary_assistant*np.ones(len(assistants))\n",
    "faculty_salaries[len(assistants):len(assistants)+len(associates)] = salary_associate*np.ones(len(associates))\n",
    "faculty_salaries[len(assistants)+len(associates):len(assistants)+len(associates)+len(full)] = salary_full*np.ones(len(full))\n",
    "faculty_salaries[len(assistants)+len(associates)+len(full):] = salary_visitor*np.ones(len(visitors))\n",
    "# self.nsadict=dict((a,b) for a,b in zip(self.s.NSAID,arange(len(self.s.NSAID))))\n",
    "salary_dict = dict((a,b) for a,b in zip(assistants+associates+full+visitors,faculty_salaries))\n",
    "# student numbers\n",
    "discount_rate = .65\n",
    "tuition = 32000.\n",
    "tuition_paid = tuition * (1.-discount_rate)\n",
    "revenue_per_sch = tuition_paid/30.\n",
    "\n",
    "# physics budget\n",
    "physics_budget = 35000.\n",
    "\n",
    "department_budget = {'PHYS':35000.,'BIOL':157000.,'CSIS':57000.,'MATH':10000.,'CHEM':68000.,'ENVA':27000.}\n",
    "sos_budget = 250000.\n",
    "saint_center_budget = 1700.\n",
    "\n",
    "\n",
    "# tuition\n",
    "tuition = 32000.\n",
    "\n",
    "#discount rate\n",
    "\n",
    "discount_rate = 0.6\n",
    "\n",
    "tuition_paid = tuition*(1-discount_rate)\n"
   ]
  },
  {
   "cell_type": "code",
   "execution_count": 12,
   "metadata": {
    "collapsed": false
   },
   "outputs": [
    {
     "name": "stdout",
     "output_type": "stream",
     "text": [
      "assuming  Gigante  is an adjunct professor who teaches  3.0  contact hrs\n",
      "assuming  Broder  is an adjunct professor who teaches  6.0  contact hrs\n",
      "assuming  Serbalik  is an adjunct professor who teaches  4.0  contact hrs\n",
      "assuming  Serbalik  is an adjunct professor who teaches  4.0  contact hrs\n",
      "assuming  Serbalik  is an adjunct professor who teaches  4.0  contact hrs\n",
      "assuming  Broder  is an adjunct professor who teaches  6.0  contact hrs\n"
     ]
    }
   ],
   "source": [
    "infile = 'Fall2014.xls'\n",
    "phys = department('PHYS',infile)"
   ]
  },
  {
   "cell_type": "code",
   "execution_count": 13,
   "metadata": {
    "collapsed": false
   },
   "outputs": [
    {
     "name": "stdout",
     "output_type": "stream",
     "text": [
      "assuming  O'Brien  is an adjunct professor who teaches  3.0  contact hrs\n",
      "assuming  Serbalik  is an adjunct professor who teaches  3.0  contact hrs\n",
      "assuming  Kiehle  is an adjunct professor who teaches  6.0  contact hrs\n",
      "assuming  Kiehle  is an adjunct professor who teaches  6.0  contact hrs\n",
      "assuming  Mazzone  is an adjunct professor who teaches  9.0  contact hrs\n",
      "assuming  Mazzone  is an adjunct professor who teaches  9.0  contact hrs\n",
      "assuming  Mazzone  is an adjunct professor who teaches  9.0  contact hrs\n",
      "assuming    is an adjunct professor who teaches  21.0  contact hrs\n",
      "assuming  Coco  is an adjunct professor who teaches  3.0  contact hrs\n",
      "assuming    is an adjunct professor who teaches  21.0  contact hrs\n",
      "assuming  Mendez  is an adjunct professor who teaches  3.0  contact hrs\n",
      "assuming    is an adjunct professor who teaches  21.0  contact hrs\n",
      "assuming  Rivituso  is an adjunct professor who teaches  3.0  contact hrs\n",
      "assuming  Schindler  is an adjunct professor who teaches  9.0  contact hrs\n",
      "assuming    is an adjunct professor who teaches  21.0  contact hrs\n",
      "assuming    is an adjunct professor who teaches  21.0  contact hrs\n",
      "assuming    is an adjunct professor who teaches  21.0  contact hrs\n",
      "assuming    is an adjunct professor who teaches  21.0  contact hrs\n",
      "assuming  Schindler  is an adjunct professor who teaches  9.0  contact hrs\n",
      "assuming  Schindler  is an adjunct professor who teaches  9.0  contact hrs\n",
      "assuming  Baciewicz  is an adjunct professor who teaches  3.0  contact hrs\n",
      "assuming  Pipino  is an adjunct professor who teaches  3.0  contact hrs\n"
     ]
    }
   ],
   "source": [
    "bio = department('BIOL',infile)\n",
    "chem = department('CHEM',infile)\n",
    "math = department('MATH',infile)\n",
    "cs = department('CSIS',infile)\n",
    "enva = department('ENVA',infile)"
   ]
  },
  {
   "cell_type": "code",
   "execution_count": 14,
   "metadata": {
    "collapsed": false
   },
   "outputs": [
    {
     "name": "stdout",
     "output_type": "stream",
     "text": [
      "264.339732403\n",
      "454400.0\n"
     ]
    }
   ],
   "source": [
    "print phys.cost_per_sch\n",
    "print phys.total_cost"
   ]
  },
  {
   "cell_type": "code",
   "execution_count": 15,
   "metadata": {
    "collapsed": false
   },
   "outputs": [],
   "source": [
    "depts = [phys, bio, chem, math, cs, enva]"
   ]
  },
  {
   "cell_type": "code",
   "execution_count": 16,
   "metadata": {
    "collapsed": false
   },
   "outputs": [
    {
     "name": "stdout",
     "output_type": "stream",
     "text": [
      "PHYS 9117.39 15944.35 6826.96 15.6\n",
      "None\n",
      "BIOL 14215.91 13897.14 -318.77 15.6\n",
      "None\n",
      "CHEM 13230.69 12437.33 -793.36 16.7\n",
      "None\n",
      "MATH 12419.39 15447.07 3027.69 16.6\n",
      "None\n",
      "CSIS 11741.87 11031.65 -710.22 16.5\n",
      "None\n",
      "ENVA 12829.76 10422.86 -2406.90 11.0\n",
      "None\n"
     ]
    }
   ],
   "source": [
    "for d in depts:\n",
    "    print d.print_stats_alt()"
   ]
  },
  {
   "cell_type": "code",
   "execution_count": 17,
   "metadata": {
    "collapsed": false
   },
   "outputs": [
    {
     "name": "stdout",
     "output_type": "stream",
     "text": [
      "dept cost/sch rev/sch margin/sch enrollment \n",
      "\n",
      "PHYS 264.34 373.33 162.33 15.6\n",
      "None\n",
      "dept cost/sch rev/sch margin/sch enrollment \n",
      "\n",
      "BIOL 499.05 373.33 -72.39 15.6\n",
      "None\n",
      "dept cost/sch rev/sch margin/sch enrollment \n",
      "\n",
      "CHEM 492.76 373.33 -66.10 16.7\n",
      "None\n",
      "dept cost/sch rev/sch margin/sch enrollment \n",
      "\n",
      "MATH 348.68 373.33 77.99 16.6\n",
      "None\n",
      "dept cost/sch rev/sch margin/sch enrollment \n",
      "\n",
      "CSIS 480.70 373.33 -54.03 16.5\n",
      "None\n",
      "dept cost/sch rev/sch margin/sch enrollment \n",
      "\n",
      "ENVA 577.83 373.33 -151.16 11.0\n",
      "None\n"
     ]
    }
   ],
   "source": [
    "# print statistics per student credit hour\n",
    "for d in depts:\n",
    "    print d.print_stats_sch()"
   ]
  },
  {
   "cell_type": "code",
   "execution_count": 57,
   "metadata": {
    "collapsed": false
   },
   "outputs": [
    {
     "name": "stdout",
     "output_type": "stream",
     "text": [
      "11.4596273292 21.0606060606\n"
     ]
    }
   ],
   "source": [
    "# revenue\n",
    "student_cost_per_class = tuition_paid/30.*3\n",
    "nstudents_needed = np.mean(cost_per_course)/student_cost_per_class\n",
    "print nstudents_needed, np.mean(enrollment[enrollment > 5.])"
   ]
  },
  {
   "cell_type": "code",
   "execution_count": 21,
   "metadata": {
    "collapsed": false
   },
   "outputs": [
    {
     "name": "stdout",
     "output_type": "stream",
     "text": [
      "24.0176770103\n",
      "10409.0\n"
     ]
    }
   ],
   "source": [
    "# what is budget of sos shared between departments\n",
    "# SoS budget / total credit hours taught in sos\n",
    "total_credit_hrs = 0\n",
    "for d in depts:\n",
    "    total_credit_hrs += np.sum(d.credit_hrs*d.enrollment)\n",
    "overhead_per_sch = sos_budget/total_credit_hrs\n",
    "print overhead_per_sch\n",
    "print total_credit_hrs"
   ]
  },
  {
   "cell_type": "markdown",
   "metadata": {
    "collapsed": false
   },
   "source": [
    "** outcome of 6/15 meeting - for next time**\n",
    "* check faculty ranks\n",
    "* check spreadsheets\n",
    "* automate credit_hrs vs contact_hrs\n",
    "* read in multiple semesters "
   ]
  },
  {
   "cell_type": "code",
   "execution_count": null,
   "metadata": {
    "collapsed": true
   },
   "outputs": [],
   "source": []
  }
 ],
 "metadata": {
  "kernelspec": {
   "display_name": "Python 2",
   "language": "python",
   "name": "python2"
  },
  "language_info": {
   "codemirror_mode": {
    "name": "ipython",
    "version": 2
   },
   "file_extension": ".py",
   "mimetype": "text/x-python",
   "name": "python",
   "nbconvert_exporter": "python",
   "pygments_lexer": "ipython2",
   "version": "2.7.11"
  }
 },
 "nbformat": 4,
 "nbformat_minor": 0
}
