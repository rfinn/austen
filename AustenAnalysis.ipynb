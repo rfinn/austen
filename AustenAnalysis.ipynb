{
 "cells": [
  {
   "cell_type": "markdown",
   "metadata": {},
   "source": [
    "** GOAL **\n",
    "\n",
    "To reproduce the number from the Austen report.  Numbers will be approximate because we will use averages for tuition paid, admin cost, total credits taken per student, etc.\n",
    "\n",
    "** DEFINITIONS **\n",
    "\n",
    "* total student credit hours = (number of students) x (credits for course)\n",
    "\n",
    "\n",
    "** COST **\n",
    "\n",
    "* cost = (contact hours)/12 x salary # use ave salary by rank\n",
    "\n",
    "* admin cost = (department head salary/4 + ? (1/2 of george's salary, maybe admin assist, dean)) / (total number of PHYS courses)\n",
    "\n",
    "* total costs = cost + admin cost + (department budget / total number of PHYS courses) \n",
    "\n",
    "* cost per SCH = (total cost) / total student credit hours\n",
    "\n",
    "\n",
    "** REVENUE **\n",
    "\n",
    "* revenue = (tuition x (1-discount rate))/(total credits taken) x (credits for course) # use average\n",
    "\n",
    "* revenue per SCH = revenue / total student credit hours\n",
    "\n",
    "\n",
    "** MARGIN **\n",
    "\n",
    "* margin = revenue - cost\n",
    "\n",
    "* margin per SCH = (revenue per SCH) - (cost per SCH)\n",
    "\n",
    "* department margin = sum(revenue) - sum(cost)\n",
    "\n",
    "\n",
    "\n",
    "** PREPARING THE DATA ** \n",
    "\n",
    "* we added two columns to the spreadsheet that Angela sent\n",
    "    * credit hours (column 15)\n",
    "    * contact hrs (column 16)\n",
    "    \n",
    "\n",
    "\n"
   ]
  },
  {
   "cell_type": "code",
   "execution_count": 232,
   "metadata": {
    "collapsed": false
   },
   "outputs": [],
   "source": [
    "import xlrd\n",
    "import numpy as np\n",
    "from matplotlib import pyplot as plt\n",
    "%matplotlib inline"
   ]
  },
  {
   "cell_type": "code",
   "execution_count": 233,
   "metadata": {
    "collapsed": true
   },
   "outputs": [],
   "source": [
    "def readSchedule(file,match_string):\n",
    "    block=[]\n",
    "    days=[]\n",
    "    times=[]\n",
    "    room=[]\n",
    "    fac=[]\n",
    "    credit=[]\n",
    "    course=[]\n",
    "    mathcourse=[]\n",
    "    mathtitle=[]\n",
    "    mathblock=[]\n",
    "    mathdays=[]\n",
    "    mathtimes=[]\n",
    "    credit_hrs = []\n",
    "    contact_hrs = []\n",
    "    enrollment = []\n",
    "    if file.find('.xls') > -1:# reading an excel file\n",
    "        xdat=xlrd.open_workbook(file)\n",
    "        sheet=xdat.sheet_by_index(0)\n",
    "        ncol=sheet.ncols\n",
    "        nrow=sheet.nrows\n",
    "        # find course index\n",
    "        for i in range(nrow):\n",
    "            coursename=sheet.cell_value(i,5)\n",
    "            if coursename.startswith(match_string):# | coursename.startswith('ASTR') : #| (coursename.find('SCDV001') > -1)  | (coursename.find('CSIS200') > -1) | (coursename.find('SCDV230') > -1):\n",
    "                enrollment.append(sheet.cell_value(i,3))\n",
    "                course.append(sheet.cell_value(i,5))\n",
    "                block.append(sheet.cell_value(i,7))\n",
    "                days.append(sheet.cell_value(i,8))\n",
    "                times.append(sheet.cell_value(i,9))\n",
    "                room.append(sheet.cell_value(i,10))\n",
    "                fac.append(sheet.cell_value(i,11).split(',')[0])\n",
    "                credit.append(sheet.cell_value(i,12))\n",
    "                credit_hrs.append(sheet.cell_value(i,14))\n",
    "                contact_hrs.append(sheet.cell_value(i,15))\n",
    "        #xdat=xlrd.close_workbook(file)\n",
    "        return block,room,fac,credit,course,days,times,credit_hrs,contact_hrs,enrollment\n",
    "    else:\n",
    "        for line in file:\n",
    "            if line.startswith('CRN'):\n",
    "                continue\n",
    "            t=line.split(',')\n",
    "            try:\n",
    "                course.append(t[2])\n",
    "                block.append(t[4])\n",
    "                room.append(t[7])\n",
    "                fac.append(t[8])\n",
    "                credit.append(t[9])\n",
    "            except:\n",
    "                print \"Error reading line: \",line\n",
    "                continue\n",
    "        return block,room,fac,credit,course,days,times,credit_hrs,contact_hrs "
   ]
  },
  {
   "cell_type": "code",
   "execution_count": 292,
   "metadata": {
    "collapsed": true
   },
   "outputs": [],
   "source": [
    "class department:\n",
    "    def __init__(self,prefix,infile):\n",
    "        self.prefix = prefix\n",
    "        if prefix.find('PHYS') > -1: # read file twice to get PHYS and ASTR courses\n",
    "            block,room,fac,credit,course,days,times,credit_hrs,contact_hrs,enrollment = readSchedule(infile,prefix)\n",
    "            t = readSchedule(infile,'ASTR')\n",
    "            self.faculty = np.array((fac + t[2]),'S16')\n",
    "            self.course = np.array((course + t[4]),'S7')\n",
    "            self.credit_hrs = np.array((credit_hrs + t[7]),'f')\n",
    "            self.contact_hrs = np.array((contact_hrs + t[8]),'f')\n",
    "            self.enrollment = np.array((enrollment + t[9]),'f')\n",
    "        else:\n",
    "            block,room,fac,credit,course,days,times,credit_hrs,contact_hrs,enrollment = readSchedule(infile,prefix)\n",
    "            self.faculty = np.array((fac),'S16')\n",
    "            self.course = np.array((course),'S7')\n",
    "            self.credit_hrs = np.array((credit_hrs),'f')\n",
    "            self.contact_hrs = np.array((contact_hrs),'f')\n",
    "            self.enrollment = np.array((enrollment),'f')\n",
    "        self.calc_cost()\n",
    "        self.calc_revenue()\n",
    "        self.calc_margin()\n",
    "    def calc_cost(self):\n",
    "        self.cost_per_course = np.zeros(len(self.faculty))\n",
    "        nhassel = 0\n",
    "        for i in range(len(self.faculty)):\n",
    "            #print faculty[i]\n",
    "            #print salary_dict[self.faculty[i]]\n",
    "            try:\n",
    "                if self.faculty[i].find('Hassel') > -1:\n",
    "                    nhassel += 1\n",
    "                    if nhassel < 2:\n",
    "                        self.cost_per_course[i] = salary_dict[self.faculty[i]]/24.*self.contact_hrs[i]*1.4\n",
    "                    else:\n",
    "                        self.cost_per_course[i] = self.contact_hrs[i] * salary_adjunct\n",
    "                else:\n",
    "                    self.cost_per_course[i] = salary_dict[self.faculty[i]]/24.*self.contact_hrs[i]*1.4\n",
    "        \n",
    "            except KeyError: # enter here for adjunct faculty\n",
    "                #print 'Key error for ',i,self.faculty[i]\n",
    "                #if faculty[i].find('Gig') > -1:\n",
    "                #    print 'Key error for ', self.faculty[i]\n",
    "                #else:\n",
    "                #    print salary_dict[self.faculty[i]]\n",
    "                #print 'got here!'\n",
    "                print 'assuming ',self.faculty[i],' is an adjunct professor who teaches ',np.sum(self.contact_hrs[self.faculty == self.faculty[i]]),' contact hrs'\n",
    "                self.cost_per_course[i] = self.contact_hrs[i]* salary_adjunct# course credit hrs * salary per credit hour\n",
    "        self.total_cost = np.sum(self.cost_per_course) + department_budget[self.prefix]\n",
    "        self.cost_per_sch = self.total_cost/np.sum(self.credit_hrs*self.enrollment)\n",
    "    def calc_revenue(self):\n",
    "        self.revenue_per_course = tuition_paid/30.*self.credit_hrs*self.enrollment\n",
    "        self.total_revenue = np.sum(self.revenue_per_course)\n",
    "    def calc_margin(self):\n",
    "        self.margin_per_course = self.revenue_per_course - self.cost_per_course\n",
    "        self.total_margin = self.total_revenue - self.total_cost\n",
    "    def print_stats(self):\n",
    "        print '\\n%%%%%%%%%%%%%%%%%%%%%%%'\n",
    "        print self.prefix\n",
    "        print '%%%%%%%%%%%%%%%%%%%%%%%'\n",
    "        print 'average cost per class    = %5.2f'%(np.mean(self.cost_per_course))\n",
    "        print 'average revenue per class = %5.2f'%(np.mean(self.revenue_per_course))\n",
    "        print 'average margin per class  = %5.2f'%(np.mean(self.margin_per_course))\n",
    "        print 'average class size        = %3.1f'%(np.mean(self.enrollment))\n",
    "    def print_stats_alt(self):\n",
    "\n",
    "        print '%s %5.2f %5.2f %5.2f %3.1f'%(self.prefix,np.mean(self.cost_per_course), \n",
    "                                            np.mean(self.revenue_per_course), np.mean(self.margin_per_course),\n",
    "                                            np.mean(self.enrollment))\n",
    "        \n",
    "        "
   ]
  },
  {
   "cell_type": "code",
   "execution_count": 293,
   "metadata": {
    "collapsed": false
   },
   "outputs": [],
   "source": [
    "# assumptions\n",
    "\n",
    "# faculty salaries\n",
    "salary_assistant = 70000.\n",
    "salary_associate = 80000.\n",
    "salary_full = 95000.\n",
    "salary_adjunct = 850. #per credit hour\n",
    "salary_visitor = 65000.\n",
    "\n",
    "faculty_ranks = {'Finn':salary_associate,'Coohill':salary_full,'Vernizzi':salary_associate,\n",
    "                'McColgan':salary_assistant,'Cummings':salary_associate,'Rosenberry':salary_associate,\n",
    "                'Hassel':salary_assistant,'Moustakas':salary_assistant,'Weatherwax':salary_full,\n",
    "                 'Medsker':salary_full,'Bellis':salary_assistant,\n",
    "                 'Caldaro':salary_visitor,'Russell':salary_visitor}\n",
    "assistants = ['Bellis','McColgan','Moustakas','Hassel', # Physics\n",
    "              #Biology\n",
    "              'Vernooy',\n",
    "              'Swinton',\n",
    "              'Goldman',\n",
    "              'Brookins', \n",
    "              'Berke',\n",
    "              'Springer',\n",
    "              'Karr','Deyrup',# Computer Science\n",
    "              'Fryling','DiTursi','Small',# Computer Science\n",
    "              'Meierdiercks','Kolozsvary', #Env\n",
    "              'Javaheri', 'Henry' # Math\n",
    "              ]\n",
    "              \n",
    "associates = ['Finn','Cummings','Vernizzi','Rosenberry', # Physics\n",
    "              'Memmo-Signor','Mason','Harbison','Byrnes', #Biology\n",
    "              # Chemistry\n",
    "              'Hofstein','Tucker','Moriarty','Barnes',\"O'Donnell\",'Hughes','Kolonko',\n",
    "              'Lim','Cotler','Berman','Breimer',# Computer Science\n",
    "              'Ellard', #ENVA\n",
    "              'Bannon','Krylov',\"O'Neill\" #Math\n",
    "              ]\n",
    "full = ['Coohill','Medsker','Weatherwax', #Physics\n",
    "        'Woolbright','Angstadt','Helm','Hayden','Wilson','Worthington','Zanetti','Sterne-Marr','LaRow', #Biology\n",
    "        'Rhoads', # Chemistry\n",
    "        'Egan','Vandenberg','Horowitz','Flatland','Matthews', # Computer Science\n",
    "        'Mangun', #Env\n",
    "        'Kenney', 'Rogers' #Math\n",
    "       ]\n",
    "visitors = ['Caldaro','Russell',\n",
    "           'Rapp', 'Pier','Chaturvedi', #Biology\n",
    "            'Wos','Barbera','LaGraff','McNamara','Lee','Vanderover','Perry', #Chemistry\n",
    "            'Liss','Sherman','Mehta','Goldstein','Yates', #Computer Science\n",
    "            'Bogan', #Environmental Science\n",
    "            'Smitas', 'Cade', #Math\n",
    "            ]\n",
    "adjuncts = ['Broder','Gigante', #Physics \n",
    "           #Biology\n",
    "          \"O'Brien\",#Chemistry\n",
    "            'Coco','Mendez','Rivituso','Schindler','Baciewicz', #Computer Science\n",
    "            'Pipino', #ENVA\n",
    "            'Kiehle','Mazzone' #Math\n",
    "           ]\n",
    "\n",
    "# make a dictionary of faculty and rank\n",
    "nfaculty = len(assistants) + len(associates) + len(full) + len(visitors)\n",
    "faculty_salaries = np.zeros(nfaculty,'f')\n",
    "faculty_salaries[0:len(assistants)] = salary_assistant*np.ones(len(assistants))\n",
    "faculty_salaries[len(assistants):len(assistants)+len(associates)] = salary_associate*np.ones(len(associates))\n",
    "faculty_salaries[len(assistants)+len(associates):len(assistants)+len(associates)+len(full)] = salary_full*np.ones(len(full))\n",
    "faculty_salaries[len(assistants)+len(associates)+len(full):] = salary_visitor*np.ones(len(visitors))\n",
    "# self.nsadict=dict((a,b) for a,b in zip(self.s.NSAID,arange(len(self.s.NSAID))))\n",
    "salary_dict = dict((a,b) for a,b in zip(assistants+associates+full+visitors,faculty_salaries))\n",
    "# student numbers\n",
    "discount_rate = .65\n",
    "tuition = 32000.\n",
    "tuition_paid = tuition * (1.-discount_rate)\n",
    "\n",
    "# physics budget\n",
    "physics_budget = 35000.\n",
    "\n",
    "department_budget = {'PHYS':(35000.+35000.),'BIOL':150000.,'CSIS':150000.,'MATH':10000.,'CHEM':80000.,'ENVA':20000.}\n",
    "\n",
    "# tuition\n",
    "tuition = 32000.\n",
    "\n",
    "#discount rate\n",
    "\n",
    "discount_rate = 0.6\n",
    "\n",
    "tuition_paid = tuition*(1-discount_rate)\n"
   ]
  },
  {
   "cell_type": "code",
   "execution_count": 294,
   "metadata": {
    "collapsed": false
   },
   "outputs": [
    {
     "name": "stdout",
     "output_type": "stream",
     "text": [
      "assuming  Gigante  is an adjunct professor who teaches  3.0  contact hrs\n",
      "assuming  Broder  is an adjunct professor who teaches  6.0  contact hrs\n",
      "assuming  Serbalik  is an adjunct professor who teaches  4.0  contact hrs\n",
      "assuming  Serbalik  is an adjunct professor who teaches  4.0  contact hrs\n",
      "assuming  Serbalik  is an adjunct professor who teaches  4.0  contact hrs\n",
      "assuming  Broder  is an adjunct professor who teaches  6.0  contact hrs\n"
     ]
    }
   ],
   "source": [
    "infile = 'Fall2014.xls'\n",
    "phys = department('PHYS',infile)"
   ]
  },
  {
   "cell_type": "code",
   "execution_count": 295,
   "metadata": {
    "collapsed": false
   },
   "outputs": [
    {
     "name": "stdout",
     "output_type": "stream",
     "text": [
      "assuming  O'Brien  is an adjunct professor who teaches  3.0  contact hrs\n",
      "assuming  Serbalik  is an adjunct professor who teaches  3.0  contact hrs\n",
      "assuming  Kiehle  is an adjunct professor who teaches  6.0  contact hrs\n",
      "assuming  Kiehle  is an adjunct professor who teaches  6.0  contact hrs\n",
      "assuming  Mazzone  is an adjunct professor who teaches  9.0  contact hrs\n",
      "assuming  Mazzone  is an adjunct professor who teaches  9.0  contact hrs\n",
      "assuming  Mazzone  is an adjunct professor who teaches  9.0  contact hrs\n",
      "assuming    is an adjunct professor who teaches  21.0  contact hrs\n",
      "assuming  Coco  is an adjunct professor who teaches  3.0  contact hrs\n",
      "assuming    is an adjunct professor who teaches  21.0  contact hrs\n",
      "assuming  Mendez  is an adjunct professor who teaches  3.0  contact hrs\n",
      "assuming    is an adjunct professor who teaches  21.0  contact hrs\n",
      "assuming  Rivituso  is an adjunct professor who teaches  3.0  contact hrs\n",
      "assuming  Schindler  is an adjunct professor who teaches  9.0  contact hrs\n",
      "assuming    is an adjunct professor who teaches  21.0  contact hrs\n",
      "assuming    is an adjunct professor who teaches  21.0  contact hrs\n",
      "assuming    is an adjunct professor who teaches  21.0  contact hrs\n",
      "assuming    is an adjunct professor who teaches  21.0  contact hrs\n",
      "assuming  Schindler  is an adjunct professor who teaches  9.0  contact hrs\n",
      "assuming  Schindler  is an adjunct professor who teaches  9.0  contact hrs\n",
      "assuming  Baciewicz  is an adjunct professor who teaches  3.0  contact hrs\n",
      "assuming  Pipino  is an adjunct professor who teaches  3.0  contact hrs\n"
     ]
    }
   ],
   "source": [
    "bio = department('BIOL',infile)\n",
    "chem = department('CHEM',infile)\n",
    "math = department('MATH',infile)\n",
    "cs = department('CSIS',infile)\n",
    "enva = department('ENVA',infile)"
   ]
  },
  {
   "cell_type": "code",
   "execution_count": 297,
   "metadata": {
    "collapsed": false
   },
   "outputs": [
    {
     "name": "stdout",
     "output_type": "stream",
     "text": [
      "284.700407213\n",
      "489400.0\n"
     ]
    }
   ],
   "source": [
    "print phys.cost_per_sch\n",
    "print phys.total_cost"
   ]
  },
  {
   "cell_type": "code",
   "execution_count": 271,
   "metadata": {
    "collapsed": false
   },
   "outputs": [],
   "source": [
    "depts = [phys, bio, chem, math, cs, enva]"
   ]
  },
  {
   "cell_type": "code",
   "execution_count": 266,
   "metadata": {
    "collapsed": false
   },
   "outputs": [
    {
     "name": "stdout",
     "output_type": "stream",
     "text": [
      "PHYS 6639.13 15944.35 9305.22 15.6\n",
      "None\n",
      "BIOL 10154.22 13897.14 3742.92 15.6\n",
      "None\n",
      "CHEM 9462.64 12437.33 2974.69 16.7\n",
      "None\n",
      "MATH 8960.20 15447.07 6486.87 16.6\n",
      "None\n",
      "CSIS 8509.94 11031.65 2521.71 16.5\n",
      "None\n",
      "ENVA 9198.81 10422.86 1224.05 11.0\n",
      "None\n"
     ]
    }
   ],
   "source": [
    "for d in depts:\n",
    "    print d.print_stats_alt()"
   ]
  },
  {
   "cell_type": "code",
   "execution_count": 57,
   "metadata": {
    "collapsed": false
   },
   "outputs": [
    {
     "name": "stdout",
     "output_type": "stream",
     "text": [
      "11.4596273292 21.0606060606\n"
     ]
    }
   ],
   "source": [
    "# revenue\n",
    "student_cost_per_class = tuition_paid/30.*3\n",
    "nstudents_needed = np.mean(cost_per_course)/student_cost_per_class\n",
    "print nstudents_needed, np.mean(enrollment[enrollment > 5.])"
   ]
  },
  {
   "cell_type": "code",
   "execution_count": 50,
   "metadata": {
    "collapsed": false
   },
   "outputs": [
    {
     "name": "stdout",
     "output_type": "stream",
     "text": [
      "ASTR010 17500.0 171.568627451\n",
      "ASTR010 2550.0 22.3684210526\n",
      "ASTR010 16250.0 159.31372549\n",
      "ASTR010 20000.0 190.476190476\n",
      "PHYS010 20000.0 196.078431373\n",
      "PHYS010 16250.0 246.212121212\n",
      "PHYS010 16250.0 159.31372549\n",
      "PHYS110 17500.0 175.0\n",
      "PHYS110 2550.0 inf\n",
      "PHYS110 17500.0 182.291666667\n",
      "PHYS110 2550.0 inf\n",
      "PHYS110 17500.0 198.863636364\n",
      "PHYS110 2550.0 inf\n",
      "PHYS110 0.0 nan\n",
      "PHYS120 16250.0 290.178571429\n",
      "PHYS120 2550.0 inf\n",
      "PHYS130 20000.0 inf\n",
      "PHYS130 20000.0 238.095238095\n",
      "PHYS130 20000.0 inf\n",
      "PHYS130 20000.0 277.777777778\n",
      "PHYS130 20000.0 inf\n",
      "PHYS130 17500.0 198.863636364\n",
      "PHYS132 6666.66666667 inf\n",
      "PHYS132 6666.66666667 inf\n",
      "PHYS220 2550.0 inf\n",
      "PHYS220 20000.0 208.333333333\n",
      "PHYS220 20000.0 inf\n",
      "PHYS222 20000.0 2500.0\n",
      "PHYS310 23333.3333333 388.888888889\n",
      "PHYS310 23333.3333333 388.888888889\n",
      "PHYS310 23333.3333333 388.888888889\n",
      "PHYS310 23333.3333333 388.888888889\n",
      "PHYS390 23333.3333333 416.666666667\n",
      "PHYS400 0.0 nan\n",
      "PHYS440 26666.6666667 1333.33333333\n",
      "PHYS470 20000.0 2857.14285714\n",
      "PHYS499 5833.33333333 5833.33333333\n",
      "PHYS499 850.0 850.0\n",
      "PHYS499 6666.66666667 6666.66666667\n",
      "PHYS499 5833.33333333 5833.33333333\n",
      "PHYS499 7916.66666667 7916.66666667\n",
      "PHYS499 850.0 425.0\n",
      "PHYS499 850.0 850.0\n",
      "PHYS499 6666.66666667 6666.66666667\n",
      "PHYS499 7916.66666667 2638.88888889\n",
      "PHYS4EL 2550.0 850.0\n"
     ]
    },
    {
     "name": "stderr",
     "output_type": "stream",
     "text": [
      "/anaconda/lib/python2.7/site-packages/ipykernel/__main__.py:2: RuntimeWarning: divide by zero encountered in double_scalars\n",
      "  from ipykernel import kernelapp as app\n",
      "/anaconda/lib/python2.7/site-packages/ipykernel/__main__.py:2: RuntimeWarning: invalid value encountered in double_scalars\n",
      "  from ipykernel import kernelapp as app\n"
     ]
    }
   ],
   "source": [
    "for i in range(len(course)):\n",
    "    print course[i],cost_per_course[i], cost_per_course[i]/(enrollment[i]*credit_hrs[i])"
   ]
  },
  {
   "cell_type": "code",
   "execution_count": 70,
   "metadata": {
    "collapsed": false
   },
   "outputs": [
    {
     "name": "stdout",
     "output_type": "stream",
     "text": [
      "Help on package xlrd:\n",
      "\n",
      "NAME\n",
      "    xlrd\n",
      "\n",
      "FILE\n",
      "    //anaconda/lib/python2.7/site-packages/xlrd/__init__.py\n",
      "\n",
      "PACKAGE CONTENTS\n",
      "    biffh\n",
      "    book\n",
      "    compdoc\n",
      "    formatting\n",
      "    formula\n",
      "    info\n",
      "    licences\n",
      "    sheet\n",
      "    timemachine\n",
      "    xldate\n",
      "    xlsx\n",
      "\n",
      "FUNCTIONS\n",
      "    count_records(filename, outfile=<ipykernel.iostream.OutStream object>)\n",
      "    \n",
      "    dump(filename, outfile=<ipykernel.iostream.OutStream object>, unnumbered=False)\n",
      "    \n",
      "    open_workbook(filename=None, logfile=<ipykernel.iostream.OutStream object>, verbosity=0, use_mmap=1, file_contents=None, encoding_override=None, formatting_info=False, on_demand=False, ragged_rows=False)\n",
      "\n",
      "DATA\n",
      "    FMLA_TYPE_ARRAY = 4\n",
      "    FMLA_TYPE_CELL = 1\n",
      "    FMLA_TYPE_COND_FMT = 8\n",
      "    FMLA_TYPE_DATA_VAL = 16\n",
      "    FMLA_TYPE_NAME = 32\n",
      "    FMLA_TYPE_SHARED = 2\n",
      "    MMAP_AVAILABLE = 1\n",
      "    USE_MMAP = 1\n",
      "    XL_CELL_BLANK = 6\n",
      "    XL_CELL_BOOLEAN = 4\n",
      "    XL_CELL_DATE = 3\n",
      "    XL_CELL_EMPTY = 0\n",
      "    XL_CELL_ERROR = 5\n",
      "    XL_CELL_NUMBER = 2\n",
      "    XL_CELL_TEXT = 1\n",
      "    __VERSION__ = '0.9.4'\n",
      "    biff_text_from_num = {0: '(not BIFF)', 20: '2.0', 21: '2.1', 30: '3', ...\n",
      "    empty_cell = empty:''\n",
      "    error_text_from_code = {0: '#NULL!', 7: '#DIV/0!', 15: '#VALUE!', 23: ...\n",
      "    oBOOL = 3\n",
      "    oERR = 4\n",
      "    oNUM = 2\n",
      "    oREF = -1\n",
      "    oREL = -2\n",
      "    oSTRG = 1\n",
      "    oUNK = 0\n",
      "    okind_dict = {-2: 'oREL', -1: 'oREF', 0: 'oUNK', 1: 'oSTRG', 2: 'oNUM'...\n",
      "\n",
      "\n"
     ]
    }
   ],
   "source": [
    "help(xlrd)"
   ]
  },
  {
   "cell_type": "code",
   "execution_count": null,
   "metadata": {
    "collapsed": true
   },
   "outputs": [],
   "source": []
  }
 ],
 "metadata": {
  "kernelspec": {
   "display_name": "Python 2",
   "language": "python",
   "name": "python2"
  },
  "language_info": {
   "codemirror_mode": {
    "name": "ipython",
    "version": 2
   },
   "file_extension": ".py",
   "mimetype": "text/x-python",
   "name": "python",
   "nbconvert_exporter": "python",
   "pygments_lexer": "ipython2",
   "version": "2.7.11"
  }
 },
 "nbformat": 4,
 "nbformat_minor": 0
}
