{
 "cells": [
  {
   "cell_type": "markdown",
   "metadata": {},
   "source": [
    "** GOAL **\n",
    "\n",
    "To reproduce the number from the Austen report.  Numbers will be approximate because we will use averages for tuition paid, admin cost, total credits taken per student, etc.\n",
    "\n",
    "** DEFINITIONS **\n",
    "\n",
    "* total student credit hours = (number of students) x (credits for course)\n",
    "\n",
    "\n",
    "** COST **\n",
    "\n",
    "* cost = (contact hours)/12 x salary # use ave salary by rank\n",
    "\n",
    "* admin cost = (department head salary/4 + ? (1/2 of george's salary, maybe admin assist, dean)) / (total number of PHYS courses)\n",
    "\n",
    "* total costs = cost + admin cost + (department budget / total number of PHYS courses) \n",
    "\n",
    "* cost per SCH = (total cost) / total student credit hours\n",
    "\n",
    "\n",
    "** REVENUE **\n",
    "\n",
    "* revenue = (tuition x (1-discount rate))/(total credits taken) x (credits for course)* enrollment  + lab_fees * enrollment # use average\n",
    "\n",
    "* average revenue per SCH = sum(revenue)/sum(enrollment * credit_hours)\n",
    "\n",
    "\n",
    "** MARGIN **\n",
    "\n",
    "* margin = revenue - cost\n",
    "\n",
    "* margin per SCH = (revenue per SCH) - (cost per SCH)\n",
    "\n",
    "* department margin = sum(revenue) - sum(cost)\n",
    "\n",
    "\n",
    "\n",
    "** PREPARING THE DATA ** \n",
    "\n",
    "* we added two columns to the spreadsheet that Angela sent\n",
    "    * credit hours (column 15)\n",
    "    * contact hrs (column 16)\n",
    "    \n",
    "\n",
    "** ASSUMPTIONS AND SIMPLIFICATIONS **\n",
    "\n",
    "* We set all salaries to be equal, including adjunct (\\$80,000/yr).\n",
    "* The only difference between adjunct and tenure-track faculty is that tenure-track faculty have 40% overhead applied in addition to the \\$80,000 base salary.\n",
    "* The differences in cost per SCH between departments is due solely to the fraction of adjuncts teaching within the dept.\n",
    "\n"
   ]
  },
  {
   "cell_type": "code",
   "execution_count": 1,
   "metadata": {
    "collapsed": false
   },
   "outputs": [
    {
     "name": "stderr",
     "output_type": "stream",
     "text": [
      "//anaconda/lib/python2.7/site-packages/matplotlib/font_manager.py:273: UserWarning: Matplotlib is building the font cache using fc-list. This may take a moment.\n",
      "  warnings.warn('Matplotlib is building the font cache using fc-list. This may take a moment.')\n"
     ]
    }
   ],
   "source": [
    "import xlrd\n",
    "import numpy as np\n",
    "from matplotlib import pyplot as plt\n",
    "%matplotlib inline"
   ]
  },
  {
   "cell_type": "code",
   "execution_count": 69,
   "metadata": {
    "collapsed": false
   },
   "outputs": [],
   "source": [
    "# assumptions\n",
    "\n",
    "# faculty salaries\n",
    "salary_assistant = 80000.#70000.\n",
    "salary_associate = 80000.\n",
    "salary_full = 80000.#95000.\n",
    "salary_adjunct = 80000./24#850. #per credit hour\n",
    "salary_visitor = 80000.#65000.\n",
    "\n",
    "assistants = ['Bellis','McColgan','Moustakas','Hassel', # Physics\n",
    "              'Brookins','Vernooy','Swinton','Goldman','Berke','Springer',#Biology\n",
    "              'Karr','Deyrup',# Computer Science\n",
    "              'Fryling','DiTursi','Small',# Computer Science\n",
    "              'Meierdiercks','Kolozsvary', #Env\n",
    "              'Javaheri', 'Henry' # Math\n",
    "              ]\n",
    "              \n",
    "associates = ['Finn','Cummings','Vernizzi','Rosenberry', # Physics\n",
    "              'Memmo-Signor','Mason','Harbison','Byrnes', #Biology\n",
    "              'Hofstein','Tucker','Moriarty','Barnes',\"O'Donnell\",'Hughes','Kolonko',#Chemistry\n",
    "              'Lim','Cotler','Berman','Breimer',# Computer Science\n",
    "              'Ellard', #ENVA\n",
    "              'Bannon','Krylov',\"O'Neill\" #Math\n",
    "              ]\n",
    "full = ['Coohill','Medsker','Weatherwax', #Physics\n",
    "        'Woolbright','Angstadt','Helm','Hayden','Wilson','Worthington','Zanetti','Sterne-Marr','LaRow', #Biology\n",
    "        'Rhoads', # Chemistry\n",
    "        'Egan','Vandenberg','Horowitz','Flatland','Matthews', # Computer Science\n",
    "        'Mangun', #Env\n",
    "        'Kenney', 'Rogers' #Math\n",
    "       ]\n",
    "visitors = ['Caldaro','Russell',\n",
    "           'Rapp', 'Pier','Chaturvedi', #Biology\n",
    "            'Wos','Barbera','LaGraff','McNamara','Lee','Vanderover','Perry', #Chemistry\n",
    "            'Liss','Sherman','Mehta','Goldstein','Yates', #Computer Science\n",
    "            'Bogan', #Environmental Science\n",
    "            'Smitas', 'Cade', #Math\n",
    "            ]\n",
    "adjuncts = ['Broder','Gigante', #Physics \n",
    "           #Biology\n",
    "          \"O'Brien\",#Chemistry\n",
    "            'Coco','Mendez','Rivituso','Schindler','Baciewicz', #Computer Science\n",
    "            'Pipino', #ENVA\n",
    "            'Kiehle','Mazzone' #Math\n",
    "           ]\n",
    "\n",
    "# make a dictionary of faculty and rank\n",
    "nfaculty = len(assistants) + len(associates) + len(full) + len(visitors)\n",
    "faculty_salaries = np.zeros(nfaculty,'f')\n",
    "faculty_salaries[0:len(assistants)] = salary_assistant*np.ones(len(assistants))\n",
    "faculty_salaries[len(assistants):len(assistants)+len(associates)] = salary_associate*np.ones(len(associates))\n",
    "faculty_salaries[len(assistants)+len(associates):len(assistants)+len(associates)+len(full)] = salary_full*np.ones(len(full))\n",
    "faculty_salaries[len(assistants)+len(associates)+len(full):] = salary_visitor*np.ones(len(visitors))\n",
    "# self.nsadict=dict((a,b) for a,b in zip(self.s.NSAID,arange(len(self.s.NSAID))))\n",
    "salary_dict = dict((a,b) for a,b in zip(assistants+associates+full+visitors,faculty_salaries))\n",
    "# student numbers\n",
    "discount_rate = .65\n",
    "tuition = 32000.\n",
    "tuition_paid = tuition * (1.-discount_rate)\n",
    "revenue_per_sch = tuition_paid/30.\n",
    "\n",
    "# physics budget\n",
    "physics_budget = 35000.\n",
    "\n",
    "department_budget = {'PHYS':35000.,'BIOL':157000.,'CSIS':57000.,'MATH':10000.,'CHEM':68000.,'ENVA':27000.}\n",
    "sos_budget = 250000.\n",
    "saint_center_budget = 1700.\n",
    "\n",
    "austen_cost_per_sch = {'PHYS':346., 'BIOL':411., 'CHEM':360., 'MATH':286., 'CSIS':320., 'ENVA':353.}\n",
    "austen_revenue_per_sch = {'PHYS':470., 'BIOL':458., 'CHEM':418., 'MATH':393., 'CSIS':517., 'ENVA':509.}\n",
    "austen_margin_per_sch = {'PHYS':124., 'BIOL':46., 'CHEM':58., 'MATH':107., 'CSIS':196., 'ENVA':155.}\n",
    "# tuition\n",
    "tuition = 32000.\n",
    "\n",
    "#discount rate\n",
    "\n",
    "discount_rate = 0.6\n",
    "\n",
    "tuition_paid = tuition*(1-discount_rate)\n"
   ]
  },
  {
   "cell_type": "code",
   "execution_count": 70,
   "metadata": {
    "collapsed": true
   },
   "outputs": [],
   "source": [
    "def readSchedule(file,match_string):\n",
    "    block=[]\n",
    "    days=[]\n",
    "    times=[]\n",
    "    room=[]\n",
    "    fac=[]\n",
    "    credit=[]\n",
    "    course=[]\n",
    "    mathcourse=[]\n",
    "    mathtitle=[]\n",
    "    mathblock=[]\n",
    "    mathdays=[]\n",
    "    mathtimes=[]\n",
    "    credit_hrs = []\n",
    "    contact_hrs = []\n",
    "    enrollment = []\n",
    "    lab_fee = []\n",
    "    if file.find('.xls') > -1:# reading an excel file\n",
    "        xdat=xlrd.open_workbook(file)\n",
    "        sheet=xdat.sheet_by_index(0)\n",
    "        ncol=sheet.ncols\n",
    "        nrow=sheet.nrows\n",
    "        # find course index\n",
    "        for i in range(nrow):\n",
    "            coursename=sheet.cell_value(i,5)\n",
    "\n",
    "            if coursename.startswith(match_string):# | coursename.startswith('ASTR') : #| (coursename.find('SCDV001') > -1)  | (coursename.find('CSIS200') > -1) | (coursename.find('SCDV230') > -1):\n",
    "                if sheet.cell_value(i,6).find('-Shen') > -1:\n",
    "                    #print 'skipping shen physics'\n",
    "                    continue\n",
    "                if float(sheet.cell_value(i,3)) < 6.: \n",
    "                    #print 'skipping low enrollment course'\n",
    "                    continue\n",
    "                enrollment.append(sheet.cell_value(i,3))\n",
    "                course.append(sheet.cell_value(i,5))\n",
    "                block.append(sheet.cell_value(i,7))\n",
    "                days.append(sheet.cell_value(i,8))\n",
    "                times.append(sheet.cell_value(i,9))\n",
    "                room.append(sheet.cell_value(i,10))\n",
    "                fac.append(sheet.cell_value(i,11).split(',')[0])\n",
    "                credit.append(sheet.cell_value(i,12))\n",
    "                credit_hrs.append(sheet.cell_value(i,14))\n",
    "                contact_hrs.append(sheet.cell_value(i,15))\n",
    "                try:\n",
    "                    lab_fee.append(float(sheet.cell_value(i,13)))\n",
    "                except ValueError:\n",
    "                    #print 'no lab fee ',sheet.cell_value(i,13)\n",
    "                    lab_fee.append(0.)\n",
    "        #xdat=xlrd.close_workbook(file)\n",
    "        return block,room,fac,credit,course,days,times,credit_hrs,contact_hrs,enrollment,lab_fee\n",
    "    else:\n",
    "        for line in file:\n",
    "            if line.startswith('CRN'):\n",
    "                continue\n",
    "            t=line.split(',')\n",
    "            try:\n",
    "                course.append(t[2])\n",
    "                block.append(t[4])\n",
    "                room.append(t[7])\n",
    "                fac.append(t[8])\n",
    "                credit.append(t[9])\n",
    "            except:\n",
    "                print \"Error reading line: \",line\n",
    "                continue\n",
    "        return block,room,fac,credit,course,days,times,credit_hrs,contact_hrs "
   ]
  },
  {
   "cell_type": "code",
   "execution_count": 116,
   "metadata": {
    "collapsed": false
   },
   "outputs": [],
   "source": [
    "class department:\n",
    "    def __init__(self,prefix,infile):\n",
    "        self.prefix = prefix\n",
    "        if prefix.find('PHYS') > -1: # read file twice to get PHYS and ASTR courses\n",
    "            block,room,fac,credit,course,days,times,credit_hrs,contact_hrs,enrollment,lab_fee = readSchedule(infile,prefix)\n",
    "            t = readSchedule(infile,'ASTR')\n",
    "            self.faculty = np.array((fac + t[2]),'S16')\n",
    "            self.course = np.array((course + t[4]),'S7')\n",
    "            self.credit_hrs = np.array((credit_hrs + t[7]),'f')\n",
    "            self.contact_hrs = np.array((contact_hrs + t[8]),'f')\n",
    "            self.enrollment = np.array((enrollment + t[9]),'f')\n",
    "            self.lab_fee = np.array((lab_fee + t[10]),'f')\n",
    "        else:\n",
    "            block,room,fac,credit,course,days,times,credit_hrs,contact_hrs,enrollment,lab_fee = readSchedule(infile,prefix)\n",
    "            self.faculty = np.array((fac),'S16')\n",
    "            self.course = np.array((course),'S7')\n",
    "            self.credit_hrs = np.array((credit_hrs),'f')\n",
    "            self.contact_hrs = np.array((contact_hrs),'f')\n",
    "            self.enrollment = np.array((enrollment),'f')\n",
    "            self.lab_fee = np.array((lab_fee),'f')\n",
    "        self.calc_cost()\n",
    "        self.calc_revenue()\n",
    "        self.calc_margin()\n",
    "        self.austen_cost_per_sch = austen_cost_per_sch[self.prefix]\n",
    "        self.austen_revenue_per_sch = austen_revenue_per_sch[self.prefix]\n",
    "        self.austen_margin_per_sch = austen_margin_per_sch[self.prefix]\n",
    "    def calc_cost(self):\n",
    "        self.cost_per_course = np.zeros(len(self.faculty))\n",
    "        nhassel = 0\n",
    "        for i in range(len(self.faculty)):\n",
    "            #print faculty[i]\n",
    "            #print salary_dict[self.faculty[i]]\n",
    "            try:\n",
    "                if self.faculty[i].find('Hassel') > -1:\n",
    "                    nhassel += 1\n",
    "                    if nhassel < 2:\n",
    "                        self.cost_per_course[i] = salary_dict[self.faculty[i]]/24.*self.contact_hrs[i]*1.4\n",
    "                    else:\n",
    "                        self.cost_per_course[i] = self.contact_hrs[i] * salary_adjunct\n",
    "                else:\n",
    "                    self.cost_per_course[i] = salary_dict[self.faculty[i]]/24.*self.contact_hrs[i]*1.4\n",
    "        \n",
    "            except KeyError: # enter here for adjunct faculty\n",
    "                #print 'Key error for ',i,self.faculty[i]\n",
    "                #if faculty[i].find('Gig') > -1:\n",
    "                #    print 'Key error for ', self.faculty[i]\n",
    "                #else:\n",
    "                #    print salary_dict[self.faculty[i]]\n",
    "                #print 'got here!'\n",
    "                print self.prefix,': assuming ',self.faculty[i],' is an adjunct professor who teaches ',np.sum(self.contact_hrs[self.faculty == self.faculty[i]]),' contact hrs'\n",
    "                self.cost_per_course[i] = self.contact_hrs[i]* salary_adjunct# course credit hrs * salary per credit hour\n",
    "        self.total_cost = np.sum(self.cost_per_course) + department_budget[self.prefix]\n",
    "        self.cost_per_sch = self.total_cost/np.sum(self.credit_hrs*self.enrollment)\n",
    "    def calc_revenue(self):\n",
    "        self.revenue_per_course = tuition_paid/30.*self.credit_hrs*self.enrollment + self.lab_fee*self.enrollment\n",
    "        self.revenue_per_sch = self.revenue_per_course/(self.enrollment*self.credit_hrs)\n",
    "        self.total_revenue = np.sum(self.revenue_per_course)\n",
    "        self.ave_revenue_per_sch = np.sum(self.revenue_per_course)/np.sum(self.enrollment*self.credit_hrs)\n",
    "    def calc_margin(self):\n",
    "        self.margin_per_sch = self.revenue_per_sch - self.cost_per_sch\n",
    "        self.margin_per_course = self.revenue_per_course - self.cost_per_course\n",
    "        self.total_margin = self.total_revenue - self.total_cost\n",
    "        self.ave_margin_per_sch = np.sum(self.revenue_per_course - self.cost_per_course)/np.sum(self.enrollment*self.credit_hrs)\n",
    "    def print_stats(self):\n",
    "        print '\\n%%%%%%%%%%%%%%%%%%%%%%%'\n",
    "        print self.prefix\n",
    "        print '%%%%%%%%%%%%%%%%%%%%%%%'\n",
    "        print 'average cost per class    = %5.2f'%(np.mean(self.cost_per_course))\n",
    "        print 'average revenue per class = %5.2f'%(np.mean(self.revenue_per_course))\n",
    "        print 'average margin per class  = %5.2f'%(np.mean(self.margin_per_course))\n",
    "        print 'average class size        = %3.1f'%(np.mean(self.enrollment))\n",
    "    def print_stats_alt(self):\n",
    "        print 'dept cost/course rev/course margin/course enrollment'\n",
    "        print '%s %5.2f %5.2f   %5.2f %3.1f'%(self.prefix,np.mean(self.cost_per_course), \n",
    "                                            np.mean(self.revenue_per_course), np.mean(self.margin_per_course),\n",
    "                                            np.mean(self.enrollment))\n",
    "    def print_stats_sch(self):\n",
    "        print 'dept cost/sch rev/sch margin/sch enrollment'\n",
    "        print '%s   %5.2f  %5.2f     %5.2f       %3.1f'%(self.prefix,np.mean(self.cost_per_sch),self.ave_revenue_per_sch, self.ave_margin_per_sch,\n",
    "                                            np.mean(self.enrollment))\n",
    "    def compare_austen_header(self):\n",
    "        print '                     Ours    Austen'\n",
    "    def print_dept(self):\n",
    "        print '%s'%(self.prefix)\n",
    "    def compare_austen(self):\n",
    "        print '   revenue per SCH   %5.1f  %5.1f '%(self.ave_revenue_per_sch,self.austen_revenue_per_sch)\n",
    "        print '   cost    per SCH   %5.1f  %5.1f '%(self.cost_per_sch,self.austen_cost_per_sch)\n",
    "        print '   margin  per SCH   %5.1f  %5.1f '%(self.ave_margin_per_sch,self.austen_margin_per_sch)"
   ]
  },
  {
   "cell_type": "code",
   "execution_count": 117,
   "metadata": {
    "collapsed": false
   },
   "outputs": [
    {
     "name": "stdout",
     "output_type": "stream",
     "text": [
      "PHYS : assuming  Gigante  is an adjunct professor who teaches  3.0  contact hrs\n",
      "PHYS : assuming  Broder  is an adjunct professor who teaches  6.0  contact hrs\n",
      "PHYS : assuming  Broder  is an adjunct professor who teaches  6.0  contact hrs\n",
      "CHEM : assuming  O'Brien  is an adjunct professor who teaches  3.0  contact hrs\n",
      "MATH : assuming  Kiehle  is an adjunct professor who teaches  6.0  contact hrs\n",
      "MATH : assuming  Kiehle  is an adjunct professor who teaches  6.0  contact hrs\n",
      "MATH : assuming  Mazzone  is an adjunct professor who teaches  9.0  contact hrs\n",
      "MATH : assuming  Mazzone  is an adjunct professor who teaches  9.0  contact hrs\n",
      "MATH : assuming  Mazzone  is an adjunct professor who teaches  9.0  contact hrs\n",
      "CSIS : assuming    is an adjunct professor who teaches  21.0  contact hrs\n",
      "CSIS : assuming  Coco  is an adjunct professor who teaches  3.0  contact hrs\n",
      "CSIS : assuming    is an adjunct professor who teaches  21.0  contact hrs\n",
      "CSIS : assuming  Mendez  is an adjunct professor who teaches  3.0  contact hrs\n",
      "CSIS : assuming    is an adjunct professor who teaches  21.0  contact hrs\n",
      "CSIS : assuming  Rivituso  is an adjunct professor who teaches  3.0  contact hrs\n",
      "CSIS : assuming  Schindler  is an adjunct professor who teaches  9.0  contact hrs\n",
      "CSIS : assuming    is an adjunct professor who teaches  21.0  contact hrs\n",
      "CSIS : assuming    is an adjunct professor who teaches  21.0  contact hrs\n",
      "CSIS : assuming    is an adjunct professor who teaches  21.0  contact hrs\n",
      "CSIS : assuming    is an adjunct professor who teaches  21.0  contact hrs\n",
      "CSIS : assuming  Schindler  is an adjunct professor who teaches  9.0  contact hrs\n",
      "CSIS : assuming  Schindler  is an adjunct professor who teaches  9.0  contact hrs\n",
      "CSIS : assuming  Baciewicz  is an adjunct professor who teaches  3.0  contact hrs\n",
      "ENVA : assuming  Pipino  is an adjunct professor who teaches  3.0  contact hrs\n"
     ]
    },
    {
     "name": "stderr",
     "output_type": "stream",
     "text": [
      "/anaconda/lib/python2.7/site-packages/ipykernel/__main__.py:56: RuntimeWarning: divide by zero encountered in divide\n",
      "/anaconda/lib/python2.7/site-packages/ipykernel/__main__.py:56: RuntimeWarning: invalid value encountered in divide\n"
     ]
    }
   ],
   "source": [
    "infile = 'Fall2014.xls'\n",
    "phys = department('PHYS',infile)\n",
    "bio = department('BIOL',infile)\n",
    "chem = department('CHEM',infile)\n",
    "math = department('MATH',infile)\n",
    "cs = department('CSIS',infile)\n",
    "enva = department('ENVA',infile)"
   ]
  },
  {
   "cell_type": "code",
   "execution_count": 118,
   "metadata": {
    "collapsed": false
   },
   "outputs": [],
   "source": [
    "depts = [phys, bio, chem, math, cs, enva]"
   ]
  },
  {
   "cell_type": "code",
   "execution_count": 119,
   "metadata": {
    "collapsed": false
   },
   "outputs": [
    {
     "name": "stdout",
     "output_type": "stream",
     "text": [
      "overhead for SOS per SCH =  24.843486038\n",
      "10063.0\n"
     ]
    }
   ],
   "source": [
    "# what is budget of sos shared between departments\n",
    "# SoS budget / total credit hours taught in sos\n",
    "total_credit_hrs = 0\n",
    "for d in depts:\n",
    "    total_credit_hrs += np.sum(d.credit_hrs*d.enrollment)\n",
    "overhead_per_sch = sos_budget/total_credit_hrs\n",
    "print 'overhead for SOS per SCH = ',overhead_per_sch\n",
    "print total_credit_hrs"
   ]
  },
  {
   "cell_type": "markdown",
   "metadata": {},
   "source": [
    "# Cost"
   ]
  },
  {
   "cell_type": "code",
   "execution_count": 120,
   "metadata": {
    "collapsed": false
   },
   "outputs": [
    {
     "name": "stdout",
     "output_type": "stream",
     "text": [
      "dept cost/course rev/course margin/course enrollment\n",
      "PHYS 12083.33 21815.00   9731.67 20.9\n",
      "None\n",
      "dept cost/course rev/course margin/course enrollment\n",
      "BIOL 14000.00 18840.00   4840.00 18.7\n",
      "None\n",
      "dept cost/course rev/course margin/course enrollment\n",
      "CHEM 14013.07 16031.89   2018.82 19.3\n",
      "None\n",
      "dept cost/course rev/course margin/course enrollment\n",
      "MATH 13565.22 16886.88   3321.67 17.5\n",
      "None\n",
      "dept cost/course rev/course margin/course enrollment\n",
      "CSIS 13253.33 13510.82   257.49 18.1\n",
      "None\n",
      "dept cost/course rev/course margin/course enrollment\n",
      "ENVA 13733.33 15143.11   1409.78 14.9\n",
      "None\n"
     ]
    }
   ],
   "source": [
    "for d in depts:\n",
    "    print d.print_stats_alt()"
   ]
  },
  {
   "cell_type": "code",
   "execution_count": 121,
   "metadata": {
    "collapsed": false
   },
   "outputs": [
    {
     "name": "stdout",
     "output_type": "stream",
     "text": [
      "PHYS 2.75 3.0 1.0 3.0 12833.3333333\n",
      "BIOL 3.0 3.0 3.0 3.0 14000.0\n",
      "CHEM 3.01961 3.0 3.0 4.0 14091.5029844\n",
      "MATH 3.0 3.0 3.0 3.0 14000.0\n",
      "CSIS 3.0 3.0 3.0 3.0 14000.0\n",
      "ENVA 3.0 3.0 3.0 3.0 14000.0\n"
     ]
    }
   ],
   "source": [
    "for d in depts:\n",
    "    print d.prefix, np.mean(d.contact_hrs),np.median(d.contact_hrs),np.min(d.contact_hrs),np.max(d.contact_hrs), np.mean(d.contact_hrs)*(80000./24)*1.4"
   ]
  },
  {
   "cell_type": "markdown",
   "metadata": {},
   "source": [
    "* We set all salaries to be equal, including adjunct (\\$80,000/yr).\n",
    "* The only difference between adjunct and tenure-track faculty is that tenure-track faculty have 40% overhead applied in addition to the \\$80,000 base salary.\n",
    "* The differences in cost per SCH between departments is due solely to the fraction of adjuncts teaching within the dept.\n",
    "* Based on this, bio is most expensive b/c they have no adjuncts, phys is least expensive b/c we "
   ]
  },
  {
   "cell_type": "markdown",
   "metadata": {},
   "source": [
    "# Revenue"
   ]
  },
  {
   "cell_type": "markdown",
   "metadata": {},
   "source": [
    "Some issues:\n",
    "* labs have zero credit hours.  Therefore, when you calculate revenue per student credit hours for a lab course, you get infinity.\n",
    "* to handle this, you could do \n",
    "\n",
    "ave_revenue_per_sch = (total_revenue - total_cost)/dot(enrollment,credit_hrs)"
   ]
  },
  {
   "cell_type": "markdown",
   "metadata": {},
   "source": [
    "**Credit Hours per Course and Revenue per SCH**"
   ]
  },
  {
   "cell_type": "code",
   "execution_count": 122,
   "metadata": {
    "collapsed": false
   },
   "outputs": [
    {
     "name": "stdout",
     "output_type": "stream",
     "text": [
      "PHYS 2.03125 3.0 0.0 4.0 452.711\n",
      "BIOL 1.56452 0.0 0.0 4.0 485.486\n",
      "CHEM 1.19608 0.0 0.0 4.0 472.071\n",
      "MATH 1.67391 0.5 0.0 4.0 446.178\n",
      "CSIS 1.21333 0.0 0.0 3.0 473.51\n",
      "ENVA 1.93333 3.0 0.0 4.0 452.483\n"
     ]
    }
   ],
   "source": [
    "for d in depts:\n",
    "    print d.prefix, np.mean(d.credit_hrs),np.median(d.credit_hrs),np.min(d.credit_hrs),np.max(d.credit_hrs), (d.ave_revenue_per_sch)"
   ]
  },
  {
   "cell_type": "markdown",
   "metadata": {},
   "source": [
    "The mean credit-hours per course is basically telling us the relative fraction of labs offerred by each department. Labs are zero credit hours, so they lower the average credit-hrs per course. The more labs offered, the lower the average revenue per course.  However, lab fees help offset the lower margin of lab courses."
   ]
  },
  {
   "cell_type": "markdown",
   "metadata": {},
   "source": [
    "# Margin Analysis"
   ]
  },
  {
   "cell_type": "code",
   "execution_count": 123,
   "metadata": {
    "collapsed": false
   },
   "outputs": [
    {
     "name": "stdout",
     "output_type": "stream",
     "text": [
      "dept cost/sch rev/sch margin/sch enrollment\n",
      "PHYS   273.45  452.71     201.95       20.9\n",
      "dept cost/sch rev/sch margin/sch enrollment\n",
      "BIOL   426.02  485.49     124.72       18.7\n",
      "dept cost/sch rev/sch margin/sch enrollment\n",
      "CHEM   451.89  472.07     59.45       19.3\n",
      "dept cost/sch rev/sch margin/sch enrollment\n",
      "MATH   364.16  446.18     87.76       17.5\n",
      "dept cost/sch rev/sch margin/sch enrollment\n",
      "CSIS   491.12  473.51      9.02       18.1\n",
      "dept cost/sch rev/sch margin/sch enrollment\n",
      "ENVA   464.14  452.48     42.12       14.9\n"
     ]
    }
   ],
   "source": [
    "# print statistics per student credit hour\n",
    "for d in depts:\n",
    "    d.print_stats_sch()"
   ]
  },
  {
   "cell_type": "markdown",
   "metadata": {},
   "source": [
    "# Compare Our Results and Austen Report Results"
   ]
  },
  {
   "cell_type": "code",
   "execution_count": 124,
   "metadata": {
    "collapsed": false
   },
   "outputs": [
    {
     "name": "stdout",
     "output_type": "stream",
     "text": [
      "                     Ours    Austen\n",
      "PHYS\n",
      "   revenue per SCH   452.7  470.0 \n",
      "   cost    per SCH   273.5  346.0 \n",
      "   margin  per SCH   202.0  124.0 \n",
      "BIOL\n",
      "   revenue per SCH   485.5  458.0 \n",
      "   cost    per SCH   426.0  411.0 \n",
      "   margin  per SCH   124.7   46.0 \n",
      "CHEM\n",
      "   revenue per SCH   472.1  418.0 \n",
      "   cost    per SCH   451.9  360.0 \n",
      "   margin  per SCH    59.4   58.0 \n",
      "MATH\n",
      "   revenue per SCH   446.2  393.0 \n",
      "   cost    per SCH   364.2  286.0 \n",
      "   margin  per SCH    87.8  107.0 \n",
      "CSIS\n",
      "   revenue per SCH   473.5  517.0 \n",
      "   cost    per SCH   491.1  320.0 \n",
      "   margin  per SCH     9.0  196.0 \n",
      "ENVA\n",
      "   revenue per SCH   452.5  509.0 \n",
      "   cost    per SCH   464.1  353.0 \n",
      "   margin  per SCH    42.1  155.0 \n"
     ]
    }
   ],
   "source": [
    "# compare revenue, cost and margin per student credit hour\n",
    "depts[0].compare_austen_header()\n",
    "for d in depts:\n",
    "    d.print_dept()\n",
    "    d.compare_austen()"
   ]
  },
  {
   "cell_type": "markdown",
   "metadata": {},
   "source": [
    "# Conclusions\n",
    "\n",
    "Using our simplified model to analyze enrollment data for the 2014 Fall semester, Physics has the largest margin per student credit hour of all departments within the school of science.  This is due to a few factors.  \n",
    "\n",
    "COST: Physics has a larger fraction of adjuct faculty.  In our simplified model, full-time faculty and adjuncts receive the same salary, so the main financial advantage of adjunct faculty is that they do not have an associated overhead, whereas full-time faculty have a 40 per cent overhead associated with their base salary.\n",
    "\n",
    "REVENUE:"
   ]
  },
  {
   "cell_type": "markdown",
   "metadata": {
    "collapsed": false
   },
   "source": [
    "** outcome of 6/15 meeting - for next time**\n",
    "* check faculty ranks\n",
    "* check spreadsheets\n",
    "* automate credit_hrs vs contact_hrs\n",
    "* read in multiple semesters "
   ]
  },
  {
   "cell_type": "code",
   "execution_count": null,
   "metadata": {
    "collapsed": true
   },
   "outputs": [],
   "source": []
  }
 ],
 "metadata": {
  "kernelspec": {
   "display_name": "Python 2",
   "language": "python",
   "name": "python2"
  },
  "language_info": {
   "codemirror_mode": {
    "name": "ipython",
    "version": 2
   },
   "file_extension": ".py",
   "mimetype": "text/x-python",
   "name": "python",
   "nbconvert_exporter": "python",
   "pygments_lexer": "ipython2",
   "version": "2.7.11"
  }
 },
 "nbformat": 4,
 "nbformat_minor": 0
}
